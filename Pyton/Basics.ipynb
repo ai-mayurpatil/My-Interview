{
 "cells": [
  {
   "cell_type": "markdown",
   "metadata": {},
   "source": [
    "### **1. What is Python?**"
   ]
  },
  {
   "cell_type": "markdown",
   "metadata": {},
   "source": [
    "Python is a high-level, interpreted programming lanugauge known for its simplicity and readability. It emphasizes code readability and productivity, making it widely used in various domain such as web develpment, data analysis, artificial intelligence and automation.\n",
    "\n",
    "- **Simply and Easy to Learn:** Python's syntax is straightforword and easy to understand, making it an ideal lanugage for beginners. Its readability resembles plain English, which reduces the learning curve for new programmers.\n",
    "\n",
    "- **Expressive Language:** Python allows developers to express complex ideas with fewer lines of coed compared to other progamming languages. This feature enhances productivity and makes code mintenance more manageable.\n",
    "\n",
    "- **Interpreted Language:** Python is an interpreted language, which means that code execution occurs line by line, making debugging easier and facilitating rapid development.\n",
    "\n",
    "- **Dynamic Typing:** Python is dynamically typed, meaning you don't need to declare variable types explicitely. This feature allows for more flexible and adapatable code.\n",
    "\n",
    "- **Cross-Platform Compatibility:** Python code can run on various operating systems, icluding Windows, macOS and Linux without modification. This cross- platform compatibility ensures that Python application are highly portable.\n",
    "\n",
    "- **Rich Standard Library:** Pyhton comes with a comprehensive statndard library that provides modules and packages for a wide range of tasks, such as file I/O, networking, regular expressions and data manipulation. This extensive library reduces the need to write code from scratch, saving time and effort.\n",
    "\n",
    "- **Community Support:** Python has a vast and active commuity for developers who contribute to its growth and development. This community provides extensive documentation, tutorails, forums and third-party libraries, making it easier for programmers to find solutions to their problems.\n",
    "\n",
    "- **Object-Oriented Programming(OOP) Support:** Python support objects-oriented programming paradigms, allowing developers to create reusable and modular code. OOP features such as classes, inheritance, and polymorphism enable develpers to build complex applications mode effciently.\n",
    "\n",
    "- **Extensibility:** Python is highly extensible, allowing developers to integrate code written in other languages such  as C/C++ and Java. This feature enables developers to leverage existing libaries and take advanatage of the performane benifits of low-level languages."
   ]
  },
  {
   "cell_type": "markdown",
   "metadata": {},
   "source": [
    "### **2. Benifits of using python ?**"
   ]
  },
  {
   "cell_type": "markdown",
   "metadata": {},
   "source": [
    "- Python is a general-purpose programming language that has a simple, easy-to-learn syntax that emhasizes readability and therefore reduces the cost of program maintenance. Moreover, the language is capable of scripting, is completely open-source and supports third-party packages encouraging modularity and code reuse.\n",
    "- Its high-level data structures, combined with dynamic typing and dynamic binding, attarct a huge community of developers for Rapid Application Developemnt and Deployement."
   ]
  },
  {
   "cell_type": "markdown",
   "metadata": {},
   "source": [
    "### **3. What is dynamic typed language and why ?**"
   ]
  },
  {
   "cell_type": "markdown",
   "metadata": {},
   "source": [
    "A dynamically typed language is one where variable types are determined at reuntime, rather than at compile time. In Python, variable can hold values of any type and their types can change dynamically as the program executes. This flexibility allows for easier coding and faster developemnt cycles, making python known as a dynamically typed language.\n",
    "- Static- Data Types are checked before execution.\n",
    "- Dynamic- Data Types are checked dduring execution.\n",
    "\n",
    "Python is an interpreted language, executes each statement line by line and thus type-checking is done on the fly, during execution. Hence, Python is a Dynamically Typed Language."
   ]
  },
  {
   "cell_type": "markdown",
   "metadata": {},
   "source": []
  }
 ],
 "metadata": {
  "kernelspec": {
   "display_name": "dsa",
   "language": "python",
   "name": "python3"
  },
  "language_info": {
   "name": "python",
   "version": "3.12.7"
  }
 },
 "nbformat": 4,
 "nbformat_minor": 2
}
